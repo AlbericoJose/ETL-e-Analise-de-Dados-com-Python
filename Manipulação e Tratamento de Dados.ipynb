{
 "cells": [
  {
   "cell_type": "markdown",
   "id": "6021ffb7-1ebf-471c-a789-52c73a396b2a",
   "metadata": {},
   "source": [
    "**Objetivo** -> Temos várias planilhas no mesmo formato com informações de clientes, valor e campanha da **netflix(dados fake)**, essas planilhas chegam aos montes, a idéia é automatizar o processo para que todos os arquivos sejam lidos, tratados e no final, seja gerado um único arquivo com todas as informações de todas as planilhas, com informações de rastreabilidade de cada arquivo.\n",
    "\n",
    "**Manipulação de dados**\n",
    "-> Leitura de arquivos em massa\n",
    "-> Tratamento de dados\n",
    "-> Criação de três novas colunas para facilitar a governança e confiabilidade dos dados\n",
    "-> juntar todos os arquivos em apenas um e gerar um arquivo final"
   ]
  },
  {
   "cell_type": "code",
   "execution_count": 1,
   "id": "71a12186-1c44-4660-8f71-d08a6112e3c5",
   "metadata": {},
   "outputs": [],
   "source": [
    "# importando as bibliotecas\n",
    "import os\n",
    "import glob\n",
    "import pandas as pd"
   ]
  },
  {
   "cell_type": "code",
   "execution_count": 8,
   "id": "dbaed613-530f-4498-ae0e-6c117d4d1f32",
   "metadata": {},
   "outputs": [],
   "source": [
    "# Caminho onde estão os arquivos\n",
    "folder_path = 'C:\\\\Users\\\\lberi\\\\projetonovo\\\\src\\\\data\\\\raw' # caminho de leitura dos arquivos brutos\n",
    "output_file = 'C:\\\\Users\\\\lberi\\\\projetonovo\\\\src\\\\data\\\\ready\\\\clean.xlsx' # caminho que será utilizado para aguardar o arquivo tratado"
   ]
  },
  {
   "cell_type": "code",
   "execution_count": 9,
   "id": "036e9efd-9bef-4ed6-b909-e4719a0057be",
   "metadata": {},
   "outputs": [
    {
     "name": "stdout",
     "output_type": "stream",
     "text": [
      "['C:\\\\Users\\\\lberi\\\\projetonovo\\\\src\\\\data\\\\raw\\\\netflix_202401_brasil.xlsx', 'C:\\\\Users\\\\lberi\\\\projetonovo\\\\src\\\\data\\\\raw\\\\netflix_202401_france.xlsx', 'C:\\\\Users\\\\lberi\\\\projetonovo\\\\src\\\\data\\\\raw\\\\netflix_202402_brasil.xlsx', 'C:\\\\Users\\\\lberi\\\\projetonovo\\\\src\\\\data\\\\raw\\\\netflix_202402_france.xlsx', 'C:\\\\Users\\\\lberi\\\\projetonovo\\\\src\\\\data\\\\raw\\\\netflix_202403_brasil.xlsx', 'C:\\\\Users\\\\lberi\\\\projetonovo\\\\src\\\\data\\\\raw\\\\netflix_202403_france.xlsx', 'C:\\\\Users\\\\lberi\\\\projetonovo\\\\src\\\\data\\\\raw\\\\netflix_202404_brasil.xlsx', 'C:\\\\Users\\\\lberi\\\\projetonovo\\\\src\\\\data\\\\raw\\\\netflix_202404_france.xlsx', 'C:\\\\Users\\\\lberi\\\\projetonovo\\\\src\\\\data\\\\raw\\\\netflix_202405_brasil.xlsx', 'C:\\\\Users\\\\lberi\\\\projetonovo\\\\src\\\\data\\\\raw\\\\netflix_202405_france.xlsx', 'C:\\\\Users\\\\lberi\\\\projetonovo\\\\src\\\\data\\\\raw\\\\netflix_202406_brasil.xlsx', 'C:\\\\Users\\\\lberi\\\\projetonovo\\\\src\\\\data\\\\raw\\\\netflix_202406_france.xlsx', 'C:\\\\Users\\\\lberi\\\\projetonovo\\\\src\\\\data\\\\raw\\\\netflix_202407_brasil.xlsx', 'C:\\\\Users\\\\lberi\\\\projetonovo\\\\src\\\\data\\\\raw\\\\netflix_202407_france.xlsx', 'C:\\\\Users\\\\lberi\\\\projetonovo\\\\src\\\\data\\\\raw\\\\netflix_202491_italian.xlsx', 'C:\\\\Users\\\\lberi\\\\projetonovo\\\\src\\\\data\\\\raw\\\\netflix_202492_italian.xlsx', 'C:\\\\Users\\\\lberi\\\\projetonovo\\\\src\\\\data\\\\raw\\\\netflix_202493_italian.xlsx', 'C:\\\\Users\\\\lberi\\\\projetonovo\\\\src\\\\data\\\\raw\\\\netflix_202494_italian.xlsx', 'C:\\\\Users\\\\lberi\\\\projetonovo\\\\src\\\\data\\\\raw\\\\netflix_202495_italian.xlsx', 'C:\\\\Users\\\\lberi\\\\projetonovo\\\\src\\\\data\\\\raw\\\\netflix_202496_italian.xlsx']\n"
     ]
    }
   ],
   "source": [
    "# Listar todos os arquivos\n",
    "excel_files = glob.glob(os.path.join(folder_path, '*.xlsx'))\n",
    "print(excel_files)"
   ]
  },
  {
   "cell_type": "code",
   "execution_count": 13,
   "id": "159a6c33-4be3-463c-81b6-34d15e0b5dfe",
   "metadata": {},
   "outputs": [
    {
     "name": "stdout",
     "output_type": "stream",
     "text": [
      "netflix_202401_brasil.xlsx\n",
      "netflix_202401_france.xlsx\n",
      "netflix_202402_brasil.xlsx\n",
      "netflix_202402_france.xlsx\n",
      "netflix_202403_brasil.xlsx\n",
      "netflix_202403_france.xlsx\n",
      "netflix_202404_brasil.xlsx\n",
      "netflix_202404_france.xlsx\n",
      "netflix_202405_brasil.xlsx\n",
      "netflix_202405_france.xlsx\n",
      "netflix_202406_brasil.xlsx\n",
      "netflix_202406_france.xlsx\n",
      "netflix_202407_brasil.xlsx\n",
      "netflix_202407_france.xlsx\n",
      "netflix_202491_italian.xlsx\n",
      "netflix_202492_italian.xlsx\n",
      "netflix_202493_italian.xlsx\n",
      "netflix_202494_italian.xlsx\n",
      "netflix_202495_italian.xlsx\n",
      "netflix_202496_italian.xlsx\n"
     ]
    }
   ],
   "source": [
    " # Verificar se há arquivos compatíveis\n",
    "if not excel_files:\n",
    "    print(\"Nenhum arquivo compatível encontrado\")\n",
    "else:\n",
    "    # Lista para armazenar os dataframes\n",
    "    dfs = []\n",
    "\n",
    "    # Iterar sobre os arquivos\n",
    "    for excel_file in excel_files:\n",
    "        try:\n",
    "            # Ler o arquivo Excel\n",
    "            df_temp = pd.read_excel(excel_file)\n",
    "\n",
    "                       \n",
    "            # Extrair o nome do arquivo\n",
    "            file_name = os.path.basename(excel_file)\n",
    "            print(file_name)\n",
    "\n",
    "            # Tratamento para incluir uma coluna de localização\n",
    "            if 'brasil' in file_name.lower():\n",
    "                df_temp['location'] = 'br'\n",
    "            elif 'france' in file_name.lower():\n",
    "                df_temp['location'] = 'fr'\n",
    "            elif 'italian' in file_name.lower():\n",
    "                df_temp['location'] = 'it'\n",
    "\n",
    "            # Adicionar coluna com o nome do arquivo\n",
    "\n",
    "            df_temp['origem'] = file_name\n",
    "                      \n",
    "            \n",
    "            # Tratamento para incluir uma coluna para a campanha\n",
    "            if 'utm_link' in df_temp.columns:\n",
    "                df_temp['campaign'] = df_temp['utm_link'].str.extract(r'utm_campaign=(.*)')\n",
    "\n",
    "            # Adicionar dataframe à lista\n",
    "            dfs.append(df_temp)\n",
    "\n",
    "        except Exception as e:\n",
    "            print(f\"Erro ao ler o arquivo {excel_file}: {e}\")"
   ]
  },
  {
   "cell_type": "code",
   "execution_count": 15,
   "id": "a306e7e6-7d4c-4e26-84a0-e611b3f8d5e5",
   "metadata": {},
   "outputs": [
    {
     "name": "stdout",
     "output_type": "stream",
     "text": [
      "Arquivo salvo com sucesso!\n"
     ]
    }
   ],
   "source": [
    "# Concatenar todos os dataframes em um único dataframe\n",
    "if dfs:\n",
    "    result = pd.concat(dfs, ignore_index=True)\n",
    "\n",
    "    # Caminho de saída do arquivo\n",
    "    gerar_arquivo = output_file\n",
    "\n",
    "    # Configurar a escrita do arquivo Excel\n",
    "    writer = pd.ExcelWriter(gerar_arquivo, engine='xlsxwriter')\n",
    "    result.to_excel(writer, index=False)\n",
    "    writer.close()  # Fechar o escritor para salvar o arquivo\n",
    "\n",
    "    print(\"Arquivo salvo com sucesso!\")\n",
    "else:\n",
    "    print(\"Nenhum arquivo compatível encontrado.\")\n"
   ]
  }
 ],
 "metadata": {
  "kernelspec": {
   "display_name": "Python 3 (ipykernel)",
   "language": "python",
   "name": "python3"
  },
  "language_info": {
   "codemirror_mode": {
    "name": "ipython",
    "version": 3
   },
   "file_extension": ".py",
   "mimetype": "text/x-python",
   "name": "python",
   "nbconvert_exporter": "python",
   "pygments_lexer": "ipython3",
   "version": "3.8.8"
  }
 },
 "nbformat": 4,
 "nbformat_minor": 5
}
