{
 "cells": [
  {
   "cell_type": "code",
   "execution_count": 1,
   "id": "ab735939",
   "metadata": {},
   "outputs": [],
   "source": [
    "# importando bibliotecas\n",
    "import mysql.connector\n",
    "from mysql.connector import Error\n",
    "import pandas as pd"
   ]
  },
  {
   "cell_type": "code",
   "execution_count": 2,
   "id": "b1737590",
   "metadata": {},
   "outputs": [],
   "source": [
    "def read_files(path, name_file, year_date, type_file): \n",
    "    _file = f'{path}{name_file}{year_date}.{type_file}'\n",
    "    colspecs = [(2,10),(10,12),(12,24),(27,39),(56,69),(69,82),(82,95),(108,121),(152,170),(170,188)]\n",
    "\n",
    "    names = ['data_pregao', 'codbdi', 'sigla_acao', 'nome_acao', 'preco_abertura', 'preco_maximo', 'preco_minimo', 'preco_fechamento', 'qtd_negocios', 'volume_negocios']\n",
    "    df = pd.read_fwf(_file, colspecs=colspecs, names=names, skiprows=1)\n",
    "    \n",
    "    # caso queira visualizar o dataframe, utilizar o código abaixo, comentar a função, var e retornar o DF\n",
    "    #df = pd.read_fwf('H:\\\\Meu Drive\\\\BI\\\\Python e Outros\\\\MBA\\\\PYTHON\\\\Tratamento_Dados\\\\Série Histórica Ibovespa\\\\COTAHIST_A2024.TXT', colspecs=colspecs, names=names, skiprows=1)\n",
    "\n",
    "    return df\n",
    "  "
   ]
  },
  {
   "cell_type": "code",
   "execution_count": 3,
   "id": "b15877c4",
   "metadata": {},
   "outputs": [],
   "source": [
    "\n",
    "def filter_stocks(df):\n",
    "    df = df[df['codbdi'] == 2]\n",
    "    df = df.drop(['codbdi'], axis=1)\n",
    "    \n",
    "    return df"
   ]
  },
  {
   "cell_type": "code",
   "execution_count": 4,
   "id": "93a26168",
   "metadata": {},
   "outputs": [],
   "source": [
    "\n",
    "def ajuste_data(df):\n",
    "    df['data_pregao'] = pd.to_datetime(df['data_pregao'], format='%Y%m%d')\n",
    "    return df"
   ]
  },
  {
   "cell_type": "code",
   "execution_count": 5,
   "id": "0e198b15",
   "metadata": {},
   "outputs": [],
   "source": [
    "\n",
    "def ajustes_valores(df):\n",
    "    df['preco_abertura'] = (df['preco_abertura'] / 100).astype(float)\n",
    "    df['preco_maximo'] = (df['preco_maximo'] / 100).astype(float)\n",
    "    df['preco_minimo'] = (df['preco_minimo'] / 100).astype(float)\n",
    "    df['preco_fechamento'] = (df['preco_fechamento'] / 100).astype(float)\n",
    "    return df"
   ]
  },
  {
   "cell_type": "code",
   "execution_count": 6,
   "id": "7d4bdb41",
   "metadata": {},
   "outputs": [],
   "source": [
    "def insert_data_into_mysql(path, name_file, year_date, type_file, db_host, db_user, db_password, db_name, table_name):\n",
    "    try:\n",
    "        conn = mysql.connector.connect(host=db_host, user=db_user, password=db_password, database=db_name, connect_timeout=120)\n",
    "        cursor = conn.cursor()\n",
    "        \n",
    "        for y in year_date:\n",
    "            df = read_files(path, name_file, y, type_file)\n",
    "            df = filter_stocks(df)\n",
    "            df = ajuste_data(df)\n",
    "            df = ajustes_valores(df)\n",
    "            \n",
    "            # Convertendo os dados do DataFrame para uma lista de tuplas\n",
    "            data = df.values.tolist()\n",
    "            \n",
    "            # Montando a consulta SQL de inserção\n",
    "            placeholders = ', '.join(['%s'] * len(df.columns))\n",
    "            columns = ', '.join(df.columns)\n",
    "            sql = f\"INSERT INTO {table_name} ({columns}) VALUES ({placeholders})\"\n",
    "            \n",
    "            # Executando a consulta SQL\n",
    "            cursor.executemany(sql, data)\n",
    "\n",
    "        conn.commit()\n",
    "        cursor.close()\n",
    "        conn.close()\n",
    "        print(\"Dados inseridos com sucesso no banco de dados!\")\n",
    "    except Error as e:\n",
    "        print(f\"Erro ao conectar ao MySQL: {e}\")\n"
   ]
  },
  {
   "cell_type": "code",
   "execution_count": 7,
   "id": "4fa3ae00",
   "metadata": {},
   "outputs": [
    {
     "name": "stdout",
     "output_type": "stream",
     "text": [
      "Dados inseridos com sucesso no banco de dados!\n"
     ]
    }
   ],
   "source": [
    "\n",
    "# Exemplo de uso da função\n",
    "insert_data_into_mysql(\n",
    "    path='H:\\\\Meu Drive\\\\BI\\\\Python e Outros\\\\MBA\\\\PYTHON\\\\Tratamento_Dados\\\\Série Histórica Ibovespa\\\\',\n",
    "    name_file='COTAHIST_A',\n",
    "    year_date=[2024,2023],\n",
    "    type_file='TXT',\n",
    "    db_host='localhost',\n",
    "    db_user='root',\n",
    "    db_password='123',\n",
    "    db_name='acoes',\n",
    "    table_name='historico_acoes'\n",
    ")"
   ]
  }
 ],
 "metadata": {
  "kernelspec": {
   "display_name": "Python 3",
   "language": "python",
   "name": "python3"
  },
  "language_info": {
   "codemirror_mode": {
    "name": "ipython",
    "version": 3
   },
   "file_extension": ".py",
   "mimetype": "text/x-python",
   "name": "python",
   "nbconvert_exporter": "python",
   "pygments_lexer": "ipython3",
   "version": "3.8.8"
  }
 },
 "nbformat": 4,
 "nbformat_minor": 5
}
