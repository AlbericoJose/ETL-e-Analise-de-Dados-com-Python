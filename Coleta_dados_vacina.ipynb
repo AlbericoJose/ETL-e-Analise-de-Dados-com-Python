{
 "cells": [
  {
   "cell_type": "markdown",
   "id": "44ee9bc0",
   "metadata": {},
   "source": [
    "# Coleta de dados estruturados\n",
    "- A base de dados refere-se a informações de; vacinas e quantidade de vacinados no mundo"
   ]
  },
  {
   "cell_type": "code",
   "execution_count": 1,
   "id": "1311f12e",
   "metadata": {},
   "outputs": [],
   "source": [
    "# importando bibliotecas que serão utilizadas\n",
    "import pandas as pd\n",
    "import os\n",
    "from datetime import datetime"
   ]
  },
  {
   "cell_type": "markdown",
   "id": "b2eb3ec9",
   "metadata": {},
   "source": [
    "# Importando dados do arquivo\n"
   ]
  },
  {
   "cell_type": "code",
   "execution_count": 2,
   "id": "6c1b0bfd",
   "metadata": {},
   "outputs": [],
   "source": [
    "DIRETORIO = 'H:\\\\Meu Drive\\\\BI\\\\Python e Outros\\\\MBA\\\\coleta_dados_estruturados\\\\datasets'   \n",
    "arquivo = 'country_vaccinations.csv'\n",
    "dados = os.path.join(DIRETORIO, arquivo) # caminho completo do arquivo"
   ]
  },
  {
   "cell_type": "markdown",
   "id": "143d4bee",
   "metadata": {},
   "source": [
    "# Verifica o caminho do diretório que o arquivo esta salvo"
   ]
  },
  {
   "cell_type": "code",
   "execution_count": 3,
   "id": "f822919e",
   "metadata": {},
   "outputs": [
    {
     "data": {
      "text/plain": [
       "'H:\\\\Meu Drive\\\\BI\\\\Python e Outros\\\\MBA\\\\coleta_dados_estruturados\\\\datasets\\\\country_vaccinations.csv'"
      ]
     },
     "execution_count": 3,
     "metadata": {},
     "output_type": "execute_result"
    }
   ],
   "source": [
    "dados"
   ]
  },
  {
   "cell_type": "markdown",
   "id": "fc65beeb",
   "metadata": {},
   "source": [
    "#  Entrar no diretório onde está o arquivo e transformar em um dataframe do pandas"
   ]
  },
  {
   "cell_type": "code",
   "execution_count": 4,
   "id": "e4cde5a5",
   "metadata": {},
   "outputs": [],
   "source": [
    "dataframe = pd.read_csv(dados, sep=',', encoding='latin-1')"
   ]
  },
  {
   "cell_type": "code",
   "execution_count": 5,
   "id": "983901ce",
   "metadata": {},
   "outputs": [
    {
     "data": {
      "text/html": [
       "<div>\n",
       "<style scoped>\n",
       "    .dataframe tbody tr th:only-of-type {\n",
       "        vertical-align: middle;\n",
       "    }\n",
       "\n",
       "    .dataframe tbody tr th {\n",
       "        vertical-align: top;\n",
       "    }\n",
       "\n",
       "    .dataframe thead th {\n",
       "        text-align: right;\n",
       "    }\n",
       "</style>\n",
       "<table border=\"1\" class=\"dataframe\">\n",
       "  <thead>\n",
       "    <tr style=\"text-align: right;\">\n",
       "      <th></th>\n",
       "      <th>country</th>\n",
       "      <th>iso_code</th>\n",
       "      <th>date</th>\n",
       "      <th>total_vaccinations</th>\n",
       "      <th>people_vaccinated</th>\n",
       "      <th>people_fully_vaccinated</th>\n",
       "      <th>daily_vaccinations_raw</th>\n",
       "      <th>daily_vaccinations</th>\n",
       "      <th>total_vaccinations_per_hundred</th>\n",
       "      <th>people_vaccinated_per_hundred</th>\n",
       "      <th>people_fully_vaccinated_per_hundred</th>\n",
       "      <th>daily_vaccinations_per_million</th>\n",
       "      <th>vaccines</th>\n",
       "      <th>source_name</th>\n",
       "      <th>source_website</th>\n",
       "    </tr>\n",
       "  </thead>\n",
       "  <tbody>\n",
       "    <tr>\n",
       "      <th>0</th>\n",
       "      <td>Afghanistan</td>\n",
       "      <td>AFG</td>\n",
       "      <td>2021-02-22</td>\n",
       "      <td>0.0</td>\n",
       "      <td>0.0</td>\n",
       "      <td>NaN</td>\n",
       "      <td>NaN</td>\n",
       "      <td>NaN</td>\n",
       "      <td>0.0</td>\n",
       "      <td>0.0</td>\n",
       "      <td>NaN</td>\n",
       "      <td>NaN</td>\n",
       "      <td>Johnson&amp;Johnson, Oxford/AstraZeneca, Pfizer/Bi...</td>\n",
       "      <td>World Health Organization</td>\n",
       "      <td>https://covid19.who.int/</td>\n",
       "    </tr>\n",
       "    <tr>\n",
       "      <th>1</th>\n",
       "      <td>Afghanistan</td>\n",
       "      <td>AFG</td>\n",
       "      <td>2021-02-23</td>\n",
       "      <td>NaN</td>\n",
       "      <td>NaN</td>\n",
       "      <td>NaN</td>\n",
       "      <td>NaN</td>\n",
       "      <td>1367.0</td>\n",
       "      <td>NaN</td>\n",
       "      <td>NaN</td>\n",
       "      <td>NaN</td>\n",
       "      <td>34.0</td>\n",
       "      <td>Johnson&amp;Johnson, Oxford/AstraZeneca, Pfizer/Bi...</td>\n",
       "      <td>World Health Organization</td>\n",
       "      <td>https://covid19.who.int/</td>\n",
       "    </tr>\n",
       "    <tr>\n",
       "      <th>2</th>\n",
       "      <td>Afghanistan</td>\n",
       "      <td>AFG</td>\n",
       "      <td>2021-02-24</td>\n",
       "      <td>NaN</td>\n",
       "      <td>NaN</td>\n",
       "      <td>NaN</td>\n",
       "      <td>NaN</td>\n",
       "      <td>1367.0</td>\n",
       "      <td>NaN</td>\n",
       "      <td>NaN</td>\n",
       "      <td>NaN</td>\n",
       "      <td>34.0</td>\n",
       "      <td>Johnson&amp;Johnson, Oxford/AstraZeneca, Pfizer/Bi...</td>\n",
       "      <td>World Health Organization</td>\n",
       "      <td>https://covid19.who.int/</td>\n",
       "    </tr>\n",
       "    <tr>\n",
       "      <th>3</th>\n",
       "      <td>Afghanistan</td>\n",
       "      <td>AFG</td>\n",
       "      <td>2021-02-25</td>\n",
       "      <td>NaN</td>\n",
       "      <td>NaN</td>\n",
       "      <td>NaN</td>\n",
       "      <td>NaN</td>\n",
       "      <td>1367.0</td>\n",
       "      <td>NaN</td>\n",
       "      <td>NaN</td>\n",
       "      <td>NaN</td>\n",
       "      <td>34.0</td>\n",
       "      <td>Johnson&amp;Johnson, Oxford/AstraZeneca, Pfizer/Bi...</td>\n",
       "      <td>World Health Organization</td>\n",
       "      <td>https://covid19.who.int/</td>\n",
       "    </tr>\n",
       "    <tr>\n",
       "      <th>4</th>\n",
       "      <td>Afghanistan</td>\n",
       "      <td>AFG</td>\n",
       "      <td>2021-02-26</td>\n",
       "      <td>NaN</td>\n",
       "      <td>NaN</td>\n",
       "      <td>NaN</td>\n",
       "      <td>NaN</td>\n",
       "      <td>1367.0</td>\n",
       "      <td>NaN</td>\n",
       "      <td>NaN</td>\n",
       "      <td>NaN</td>\n",
       "      <td>34.0</td>\n",
       "      <td>Johnson&amp;Johnson, Oxford/AstraZeneca, Pfizer/Bi...</td>\n",
       "      <td>World Health Organization</td>\n",
       "      <td>https://covid19.who.int/</td>\n",
       "    </tr>\n",
       "  </tbody>\n",
       "</table>\n",
       "</div>"
      ],
      "text/plain": [
       "       country iso_code        date  total_vaccinations  people_vaccinated  \\\n",
       "0  Afghanistan      AFG  2021-02-22                 0.0                0.0   \n",
       "1  Afghanistan      AFG  2021-02-23                 NaN                NaN   \n",
       "2  Afghanistan      AFG  2021-02-24                 NaN                NaN   \n",
       "3  Afghanistan      AFG  2021-02-25                 NaN                NaN   \n",
       "4  Afghanistan      AFG  2021-02-26                 NaN                NaN   \n",
       "\n",
       "   people_fully_vaccinated  daily_vaccinations_raw  daily_vaccinations  \\\n",
       "0                      NaN                     NaN                 NaN   \n",
       "1                      NaN                     NaN              1367.0   \n",
       "2                      NaN                     NaN              1367.0   \n",
       "3                      NaN                     NaN              1367.0   \n",
       "4                      NaN                     NaN              1367.0   \n",
       "\n",
       "   total_vaccinations_per_hundred  people_vaccinated_per_hundred  \\\n",
       "0                             0.0                            0.0   \n",
       "1                             NaN                            NaN   \n",
       "2                             NaN                            NaN   \n",
       "3                             NaN                            NaN   \n",
       "4                             NaN                            NaN   \n",
       "\n",
       "   people_fully_vaccinated_per_hundred  daily_vaccinations_per_million  \\\n",
       "0                                  NaN                             NaN   \n",
       "1                                  NaN                            34.0   \n",
       "2                                  NaN                            34.0   \n",
       "3                                  NaN                            34.0   \n",
       "4                                  NaN                            34.0   \n",
       "\n",
       "                                            vaccines  \\\n",
       "0  Johnson&Johnson, Oxford/AstraZeneca, Pfizer/Bi...   \n",
       "1  Johnson&Johnson, Oxford/AstraZeneca, Pfizer/Bi...   \n",
       "2  Johnson&Johnson, Oxford/AstraZeneca, Pfizer/Bi...   \n",
       "3  Johnson&Johnson, Oxford/AstraZeneca, Pfizer/Bi...   \n",
       "4  Johnson&Johnson, Oxford/AstraZeneca, Pfizer/Bi...   \n",
       "\n",
       "                 source_name            source_website  \n",
       "0  World Health Organization  https://covid19.who.int/  \n",
       "1  World Health Organization  https://covid19.who.int/  \n",
       "2  World Health Organization  https://covid19.who.int/  \n",
       "3  World Health Organization  https://covid19.who.int/  \n",
       "4  World Health Organization  https://covid19.who.int/  "
      ]
     },
     "execution_count": 5,
     "metadata": {},
     "output_type": "execute_result"
    }
   ],
   "source": [
    "dataframe.head(5)"
   ]
  },
  {
   "cell_type": "markdown",
   "id": "3ed9e0cc",
   "metadata": {},
   "source": [
    "# Analisando os dados"
   ]
  },
  {
   "cell_type": "code",
   "execution_count": 6,
   "id": "649df417",
   "metadata": {},
   "outputs": [
    {
     "data": {
      "text/html": [
       "<div>\n",
       "<style scoped>\n",
       "    .dataframe tbody tr th:only-of-type {\n",
       "        vertical-align: middle;\n",
       "    }\n",
       "\n",
       "    .dataframe tbody tr th {\n",
       "        vertical-align: top;\n",
       "    }\n",
       "\n",
       "    .dataframe thead th {\n",
       "        text-align: right;\n",
       "    }\n",
       "</style>\n",
       "<table border=\"1\" class=\"dataframe\">\n",
       "  <thead>\n",
       "    <tr style=\"text-align: right;\">\n",
       "      <th></th>\n",
       "      <th>country</th>\n",
       "      <th>iso_code</th>\n",
       "      <th>date</th>\n",
       "      <th>total_vaccinations</th>\n",
       "      <th>people_vaccinated</th>\n",
       "      <th>people_fully_vaccinated</th>\n",
       "      <th>daily_vaccinations_raw</th>\n",
       "      <th>daily_vaccinations</th>\n",
       "      <th>total_vaccinations_per_hundred</th>\n",
       "      <th>people_vaccinated_per_hundred</th>\n",
       "      <th>people_fully_vaccinated_per_hundred</th>\n",
       "      <th>daily_vaccinations_per_million</th>\n",
       "      <th>vaccines</th>\n",
       "      <th>source_name</th>\n",
       "      <th>source_website</th>\n",
       "    </tr>\n",
       "  </thead>\n",
       "  <tbody>\n",
       "    <tr>\n",
       "      <th>11085</th>\n",
       "      <td>Brazil</td>\n",
       "      <td>BRA</td>\n",
       "      <td>2022-03-29</td>\n",
       "      <td>413559595.0</td>\n",
       "      <td>181078067.0</td>\n",
       "      <td>160272858.0</td>\n",
       "      <td>1382570.0</td>\n",
       "      <td>656803.0</td>\n",
       "      <td>193.26</td>\n",
       "      <td>84.62</td>\n",
       "      <td>74.90</td>\n",
       "      <td>3069.0</td>\n",
       "      <td>Johnson&amp;Johnson, Oxford/AstraZeneca, Pfizer/Bi...</td>\n",
       "      <td>State governments via coronavirusbra1.github.io</td>\n",
       "      <td>https://coronavirusbra1.github.io</td>\n",
       "    </tr>\n",
       "    <tr>\n",
       "      <th>11084</th>\n",
       "      <td>Brazil</td>\n",
       "      <td>BRA</td>\n",
       "      <td>2022-03-28</td>\n",
       "      <td>412177025.0</td>\n",
       "      <td>180881628.0</td>\n",
       "      <td>160008924.0</td>\n",
       "      <td>628823.0</td>\n",
       "      <td>546999.0</td>\n",
       "      <td>192.61</td>\n",
       "      <td>84.53</td>\n",
       "      <td>74.77</td>\n",
       "      <td>2556.0</td>\n",
       "      <td>Johnson&amp;Johnson, Oxford/AstraZeneca, Pfizer/Bi...</td>\n",
       "      <td>State governments via coronavirusbra1.github.io</td>\n",
       "      <td>https://coronavirusbra1.github.io</td>\n",
       "    </tr>\n",
       "    <tr>\n",
       "      <th>11083</th>\n",
       "      <td>Brazil</td>\n",
       "      <td>BRA</td>\n",
       "      <td>2022-03-27</td>\n",
       "      <td>411548202.0</td>\n",
       "      <td>180800024.0</td>\n",
       "      <td>159842858.0</td>\n",
       "      <td>432005.0</td>\n",
       "      <td>587488.0</td>\n",
       "      <td>192.32</td>\n",
       "      <td>84.49</td>\n",
       "      <td>74.70</td>\n",
       "      <td>2745.0</td>\n",
       "      <td>Johnson&amp;Johnson, Oxford/AstraZeneca, Pfizer/Bi...</td>\n",
       "      <td>State governments via coronavirusbra1.github.io</td>\n",
       "      <td>https://coronavirusbra1.github.io</td>\n",
       "    </tr>\n",
       "    <tr>\n",
       "      <th>11082</th>\n",
       "      <td>Brazil</td>\n",
       "      <td>BRA</td>\n",
       "      <td>2022-03-26</td>\n",
       "      <td>411116197.0</td>\n",
       "      <td>180757995.0</td>\n",
       "      <td>159756178.0</td>\n",
       "      <td>255556.0</td>\n",
       "      <td>548819.0</td>\n",
       "      <td>192.12</td>\n",
       "      <td>84.47</td>\n",
       "      <td>74.65</td>\n",
       "      <td>2565.0</td>\n",
       "      <td>Johnson&amp;Johnson, Oxford/AstraZeneca, Pfizer/Bi...</td>\n",
       "      <td>State governments via coronavirusbra1.github.io</td>\n",
       "      <td>https://coronavirusbra1.github.io</td>\n",
       "    </tr>\n",
       "    <tr>\n",
       "      <th>11081</th>\n",
       "      <td>Brazil</td>\n",
       "      <td>BRA</td>\n",
       "      <td>2022-03-25</td>\n",
       "      <td>410860641.0</td>\n",
       "      <td>180726798.0</td>\n",
       "      <td>159673499.0</td>\n",
       "      <td>684805.0</td>\n",
       "      <td>596456.0</td>\n",
       "      <td>192.00</td>\n",
       "      <td>84.45</td>\n",
       "      <td>74.62</td>\n",
       "      <td>2787.0</td>\n",
       "      <td>Johnson&amp;Johnson, Oxford/AstraZeneca, Pfizer/Bi...</td>\n",
       "      <td>State governments via coronavirusbra1.github.io</td>\n",
       "      <td>https://coronavirusbra1.github.io</td>\n",
       "    </tr>\n",
       "  </tbody>\n",
       "</table>\n",
       "</div>"
      ],
      "text/plain": [
       "      country iso_code        date  total_vaccinations  people_vaccinated  \\\n",
       "11085  Brazil      BRA  2022-03-29         413559595.0        181078067.0   \n",
       "11084  Brazil      BRA  2022-03-28         412177025.0        180881628.0   \n",
       "11083  Brazil      BRA  2022-03-27         411548202.0        180800024.0   \n",
       "11082  Brazil      BRA  2022-03-26         411116197.0        180757995.0   \n",
       "11081  Brazil      BRA  2022-03-25         410860641.0        180726798.0   \n",
       "\n",
       "       people_fully_vaccinated  daily_vaccinations_raw  daily_vaccinations  \\\n",
       "11085              160272858.0               1382570.0            656803.0   \n",
       "11084              160008924.0                628823.0            546999.0   \n",
       "11083              159842858.0                432005.0            587488.0   \n",
       "11082              159756178.0                255556.0            548819.0   \n",
       "11081              159673499.0                684805.0            596456.0   \n",
       "\n",
       "       total_vaccinations_per_hundred  people_vaccinated_per_hundred  \\\n",
       "11085                          193.26                          84.62   \n",
       "11084                          192.61                          84.53   \n",
       "11083                          192.32                          84.49   \n",
       "11082                          192.12                          84.47   \n",
       "11081                          192.00                          84.45   \n",
       "\n",
       "       people_fully_vaccinated_per_hundred  daily_vaccinations_per_million  \\\n",
       "11085                                74.90                          3069.0   \n",
       "11084                                74.77                          2556.0   \n",
       "11083                                74.70                          2745.0   \n",
       "11082                                74.65                          2565.0   \n",
       "11081                                74.62                          2787.0   \n",
       "\n",
       "                                                vaccines  \\\n",
       "11085  Johnson&Johnson, Oxford/AstraZeneca, Pfizer/Bi...   \n",
       "11084  Johnson&Johnson, Oxford/AstraZeneca, Pfizer/Bi...   \n",
       "11083  Johnson&Johnson, Oxford/AstraZeneca, Pfizer/Bi...   \n",
       "11082  Johnson&Johnson, Oxford/AstraZeneca, Pfizer/Bi...   \n",
       "11081  Johnson&Johnson, Oxford/AstraZeneca, Pfizer/Bi...   \n",
       "\n",
       "                                           source_name  \\\n",
       "11085  State governments via coronavirusbra1.github.io   \n",
       "11084  State governments via coronavirusbra1.github.io   \n",
       "11083  State governments via coronavirusbra1.github.io   \n",
       "11082  State governments via coronavirusbra1.github.io   \n",
       "11081  State governments via coronavirusbra1.github.io   \n",
       "\n",
       "                          source_website  \n",
       "11085  https://coronavirusbra1.github.io  \n",
       "11084  https://coronavirusbra1.github.io  \n",
       "11083  https://coronavirusbra1.github.io  \n",
       "11082  https://coronavirusbra1.github.io  \n",
       "11081  https://coronavirusbra1.github.io  "
      ]
     },
     "execution_count": 6,
     "metadata": {},
     "output_type": "execute_result"
    }
   ],
   "source": [
    "# dados referente ao Brasil\n",
    "dataframe.query('country == \"Brazil\"').sort_values('date', ascending=False)[:5]"
   ]
  },
  {
   "cell_type": "code",
   "execution_count": 7,
   "id": "e4d17621",
   "metadata": {},
   "outputs": [
    {
     "data": {
      "text/plain": [
       "223"
      ]
     },
     "execution_count": 7,
     "metadata": {},
     "output_type": "execute_result"
    }
   ],
   "source": [
    "# numero de paises distintos na base\n",
    "dataframe['country'].nunique()"
   ]
  },
  {
   "cell_type": "markdown",
   "id": "a4b80ed2",
   "metadata": {},
   "source": [
    "# Qual o país com maior número de pessoas imunizadas ?"
   ]
  },
  {
   "cell_type": "code",
   "execution_count": 8,
   "id": "6b3e114a",
   "metadata": {},
   "outputs": [
    {
     "data": {
      "text/plain": [
       "'2022-03-29'"
      ]
     },
     "execution_count": 8,
     "metadata": {},
     "output_type": "execute_result"
    }
   ],
   "source": [
    "# identificando a data mais recente da coleta\n",
    "ultima_data = dataframe['date'].max()\n",
    "ultima_data"
   ]
  },
  {
   "cell_type": "code",
   "execution_count": 9,
   "id": "455f9d7e",
   "metadata": {},
   "outputs": [],
   "source": [
    "# filtrando a última data\n",
    "ultima_data = dataframe[dataframe.date == ultima_data]"
   ]
  },
  {
   "cell_type": "code",
   "execution_count": 10,
   "id": "dd98414d",
   "metadata": {},
   "outputs": [
    {
     "data": {
      "text/plain": [
       "(54, 15)"
      ]
     },
     "execution_count": 10,
     "metadata": {},
     "output_type": "execute_result"
    }
   ],
   "source": [
    "# quantidade de linhas e colunas dentro do dataset\n",
    "ultima_data.shape"
   ]
  },
  {
   "cell_type": "markdown",
   "id": "2805d1e8",
   "metadata": {},
   "source": [
    "# Atenção\n",
    "Como temos 223 paíes e quando buscamos a data mais recente, só aparecem 54, teremos que fazer outro tipo de filtro no dataset, pois, acabaremos excluindo dados de ourtos países."
   ]
  },
  {
   "cell_type": "code",
   "execution_count": 11,
   "id": "a7bc7e0d",
   "metadata": {},
   "outputs": [
    {
     "data": {
      "text/plain": [
       "country\n",
       "Lebanon                            2022-03-29\n",
       "Lithuania                          2022-03-29\n",
       "Kosovo                             2022-03-29\n",
       "Kazakhstan                         2022-03-29\n",
       "Japan                              2022-03-29\n",
       "                                      ...    \n",
       "Pitcairn                           2021-09-07\n",
       "Turkmenistan                       2021-09-05\n",
       "Bonaire Sint Eustatius and Saba    2021-09-01\n",
       "Saint Helena                       2021-05-05\n",
       "Falkland Islands                   2021-04-14\n",
       "Name: date, Length: 223, dtype: object"
      ]
     },
     "execution_count": 11,
     "metadata": {},
     "output_type": "execute_result"
    }
   ],
   "source": [
    "dataframe.groupby('country')['date'].max().sort_values(ascending=False)"
   ]
  },
  {
   "cell_type": "code",
   "execution_count": 12,
   "id": "20d81f78",
   "metadata": {},
   "outputs": [
    {
     "data": {
      "text/plain": [
       "country\n",
       "China               3263129000\n",
       "India               1834500657\n",
       "United States        560181791\n",
       "Brazil               413559595\n",
       "Indonesia            377108938\n",
       "                       ...    \n",
       "Falkland Islands          4407\n",
       "Montserrat                4211\n",
       "Niue                      4161\n",
       "Tokelau                   1936\n",
       "Pitcairn                    94\n",
       "Name: total_vaccinations, Length: 223, dtype: object"
      ]
     },
     "execution_count": 12,
     "metadata": {},
     "output_type": "execute_result"
    }
   ],
   "source": [
    "# agrupar o total de vacinação por país de forma decrescente\n",
    "dataframe.groupby('country')['total_vaccinations'].max().sort_values(ascending=False).map('{:.0f}'.format)"
   ]
  },
  {
   "cell_type": "markdown",
   "id": "4dfddc0d",
   "metadata": {},
   "source": [
    "# Top 10 paises com maior número de vacinados"
   ]
  },
  {
   "cell_type": "code",
   "execution_count": 13,
   "id": "ab8ad5bb",
   "metadata": {},
   "outputs": [
    {
     "data": {
      "text/plain": [
       "country\n",
       "China               3263129000\n",
       "India               1834500657\n",
       "United States        560181791\n",
       "Brazil               413559595\n",
       "Indonesia            377108938\n",
       "                       ...    \n",
       "Falkland Islands          4407\n",
       "Montserrat                4211\n",
       "Niue                      4161\n",
       "Tokelau                   1936\n",
       "Pitcairn                    94\n",
       "Name: total_vaccinations, Length: 223, dtype: object"
      ]
     },
     "execution_count": 13,
     "metadata": {},
     "output_type": "execute_result"
    }
   ],
   "source": [
    "imunizados_por_pais = dataframe.groupby('country')['total_vaccinations'].max().sort_values(ascending=False).map('{:.0f}'.format)\n",
    "imunizados_por_pais"
   ]
  },
  {
   "cell_type": "code",
   "execution_count": 14,
   "id": "a27919ad",
   "metadata": {},
   "outputs": [
    {
     "data": {
      "text/plain": [
       "pandas.core.series.Series"
      ]
     },
     "execution_count": 14,
     "metadata": {},
     "output_type": "execute_result"
    }
   ],
   "source": [
    "# identificando o tipo de estrutura do objeto, no caso semelhante a uma matriz ou coluna em uma planilha\n",
    "type(imunizados_por_pais)"
   ]
  },
  {
   "cell_type": "code",
   "execution_count": 15,
   "id": "545a7649",
   "metadata": {},
   "outputs": [
    {
     "data": {
      "text/html": [
       "<div>\n",
       "<style scoped>\n",
       "    .dataframe tbody tr th:only-of-type {\n",
       "        vertical-align: middle;\n",
       "    }\n",
       "\n",
       "    .dataframe tbody tr th {\n",
       "        vertical-align: top;\n",
       "    }\n",
       "\n",
       "    .dataframe thead th {\n",
       "        text-align: right;\n",
       "    }\n",
       "</style>\n",
       "<table border=\"1\" class=\"dataframe\">\n",
       "  <thead>\n",
       "    <tr style=\"text-align: right;\">\n",
       "      <th></th>\n",
       "      <th>country</th>\n",
       "      <th>total_vaccinations</th>\n",
       "    </tr>\n",
       "  </thead>\n",
       "  <tbody>\n",
       "    <tr>\n",
       "      <th>0</th>\n",
       "      <td>China</td>\n",
       "      <td>3263129000</td>\n",
       "    </tr>\n",
       "    <tr>\n",
       "      <th>1</th>\n",
       "      <td>India</td>\n",
       "      <td>1834500657</td>\n",
       "    </tr>\n",
       "    <tr>\n",
       "      <th>2</th>\n",
       "      <td>United States</td>\n",
       "      <td>560181791</td>\n",
       "    </tr>\n",
       "    <tr>\n",
       "      <th>3</th>\n",
       "      <td>Brazil</td>\n",
       "      <td>413559595</td>\n",
       "    </tr>\n",
       "    <tr>\n",
       "      <th>4</th>\n",
       "      <td>Indonesia</td>\n",
       "      <td>377108938</td>\n",
       "    </tr>\n",
       "    <tr>\n",
       "      <th>...</th>\n",
       "      <td>...</td>\n",
       "      <td>...</td>\n",
       "    </tr>\n",
       "    <tr>\n",
       "      <th>218</th>\n",
       "      <td>Falkland Islands</td>\n",
       "      <td>4407</td>\n",
       "    </tr>\n",
       "    <tr>\n",
       "      <th>219</th>\n",
       "      <td>Montserrat</td>\n",
       "      <td>4211</td>\n",
       "    </tr>\n",
       "    <tr>\n",
       "      <th>220</th>\n",
       "      <td>Niue</td>\n",
       "      <td>4161</td>\n",
       "    </tr>\n",
       "    <tr>\n",
       "      <th>221</th>\n",
       "      <td>Tokelau</td>\n",
       "      <td>1936</td>\n",
       "    </tr>\n",
       "    <tr>\n",
       "      <th>222</th>\n",
       "      <td>Pitcairn</td>\n",
       "      <td>94</td>\n",
       "    </tr>\n",
       "  </tbody>\n",
       "</table>\n",
       "<p>223 rows × 2 columns</p>\n",
       "</div>"
      ],
      "text/plain": [
       "              country total_vaccinations\n",
       "0               China         3263129000\n",
       "1               India         1834500657\n",
       "2       United States          560181791\n",
       "3              Brazil          413559595\n",
       "4           Indonesia          377108938\n",
       "..                ...                ...\n",
       "218  Falkland Islands               4407\n",
       "219        Montserrat               4211\n",
       "220              Niue               4161\n",
       "221           Tokelau               1936\n",
       "222          Pitcairn                 94\n",
       "\n",
       "[223 rows x 2 columns]"
      ]
     },
     "execution_count": 15,
     "metadata": {},
     "output_type": "execute_result"
    }
   ],
   "source": [
    "# transformando o objeto acima em um dataframe, redefinindo e criando uma coluna para o indíce\n",
    "imunizados = imunizados_por_pais.to_frame().reset_index()\n",
    "imunizados"
   ]
  },
  {
   "cell_type": "code",
   "execution_count": 16,
   "id": "1f9f3131",
   "metadata": {},
   "outputs": [
    {
     "data": {
      "text/html": [
       "<div>\n",
       "<style scoped>\n",
       "    .dataframe tbody tr th:only-of-type {\n",
       "        vertical-align: middle;\n",
       "    }\n",
       "\n",
       "    .dataframe tbody tr th {\n",
       "        vertical-align: top;\n",
       "    }\n",
       "\n",
       "    .dataframe thead th {\n",
       "        text-align: right;\n",
       "    }\n",
       "</style>\n",
       "<table border=\"1\" class=\"dataframe\">\n",
       "  <thead>\n",
       "    <tr style=\"text-align: right;\">\n",
       "      <th></th>\n",
       "      <th>country</th>\n",
       "      <th>total_vaccinations</th>\n",
       "    </tr>\n",
       "  </thead>\n",
       "  <tbody>\n",
       "    <tr>\n",
       "      <th>87</th>\n",
       "      <td>Jordan</td>\n",
       "      <td>9727982</td>\n",
       "    </tr>\n",
       "    <tr>\n",
       "      <th>21</th>\n",
       "      <td>Argentina</td>\n",
       "      <td>96504666</td>\n",
       "    </tr>\n",
       "    <tr>\n",
       "      <th>152</th>\n",
       "      <td>Democratic Republic of Congo</td>\n",
       "      <td>964948</td>\n",
       "    </tr>\n",
       "    <tr>\n",
       "      <th>88</th>\n",
       "      <td>Nicaragua</td>\n",
       "      <td>9611936</td>\n",
       "    </tr>\n",
       "    <tr>\n",
       "      <th>222</th>\n",
       "      <td>Pitcairn</td>\n",
       "      <td>94</td>\n",
       "    </tr>\n",
       "    <tr>\n",
       "      <th>22</th>\n",
       "      <td>Spain</td>\n",
       "      <td>93807121</td>\n",
       "    </tr>\n",
       "    <tr>\n",
       "      <th>153</th>\n",
       "      <td>Maldives</td>\n",
       "      <td>913264</td>\n",
       "    </tr>\n",
       "    <tr>\n",
       "      <th>154</th>\n",
       "      <td>Lesotho</td>\n",
       "      <td>905438</td>\n",
       "    </tr>\n",
       "    <tr>\n",
       "      <th>89</th>\n",
       "      <td>Zimbabwe</td>\n",
       "      <td>9039729</td>\n",
       "    </tr>\n",
       "    <tr>\n",
       "      <th>155</th>\n",
       "      <td>Guyana</td>\n",
       "      <td>889522</td>\n",
       "    </tr>\n",
       "  </tbody>\n",
       "</table>\n",
       "</div>"
      ],
      "text/plain": [
       "                          country total_vaccinations\n",
       "87                         Jordan            9727982\n",
       "21                      Argentina           96504666\n",
       "152  Democratic Republic of Congo             964948\n",
       "88                      Nicaragua            9611936\n",
       "222                      Pitcairn                 94\n",
       "22                          Spain           93807121\n",
       "153                      Maldives             913264\n",
       "154                       Lesotho             905438\n",
       "89                       Zimbabwe            9039729\n",
       "155                        Guyana             889522"
      ]
     },
     "execution_count": 16,
     "metadata": {},
     "output_type": "execute_result"
    }
   ],
   "source": [
    "imunizados.sort_values('total_vaccinations', ascending=False).head(10)"
   ]
  },
  {
   "cell_type": "markdown",
   "id": "1c27bcf1",
   "metadata": {},
   "source": [
    "# Qual vacina é mais usada no mundo ?"
   ]
  },
  {
   "cell_type": "code",
   "execution_count": 17,
   "id": "6c8c37dc",
   "metadata": {},
   "outputs": [
    {
     "data": {
      "text/html": [
       "<div>\n",
       "<style scoped>\n",
       "    .dataframe tbody tr th:only-of-type {\n",
       "        vertical-align: middle;\n",
       "    }\n",
       "\n",
       "    .dataframe tbody tr th {\n",
       "        vertical-align: top;\n",
       "    }\n",
       "\n",
       "    .dataframe thead th {\n",
       "        text-align: right;\n",
       "    }\n",
       "</style>\n",
       "<table border=\"1\" class=\"dataframe\">\n",
       "  <thead>\n",
       "    <tr style=\"text-align: right;\">\n",
       "      <th></th>\n",
       "      <th>country</th>\n",
       "      <th>date</th>\n",
       "      <th>vaccines</th>\n",
       "    </tr>\n",
       "  </thead>\n",
       "  <tbody>\n",
       "    <tr>\n",
       "      <th>0</th>\n",
       "      <td>Afghanistan</td>\n",
       "      <td>2021-02-22</td>\n",
       "      <td>Johnson&amp;Johnson, Oxford/AstraZeneca, Pfizer/Bi...</td>\n",
       "    </tr>\n",
       "    <tr>\n",
       "      <th>1</th>\n",
       "      <td>Afghanistan</td>\n",
       "      <td>2021-02-23</td>\n",
       "      <td>Johnson&amp;Johnson, Oxford/AstraZeneca, Pfizer/Bi...</td>\n",
       "    </tr>\n",
       "    <tr>\n",
       "      <th>2</th>\n",
       "      <td>Afghanistan</td>\n",
       "      <td>2021-02-24</td>\n",
       "      <td>Johnson&amp;Johnson, Oxford/AstraZeneca, Pfizer/Bi...</td>\n",
       "    </tr>\n",
       "    <tr>\n",
       "      <th>3</th>\n",
       "      <td>Afghanistan</td>\n",
       "      <td>2021-02-25</td>\n",
       "      <td>Johnson&amp;Johnson, Oxford/AstraZeneca, Pfizer/Bi...</td>\n",
       "    </tr>\n",
       "    <tr>\n",
       "      <th>4</th>\n",
       "      <td>Afghanistan</td>\n",
       "      <td>2021-02-26</td>\n",
       "      <td>Johnson&amp;Johnson, Oxford/AstraZeneca, Pfizer/Bi...</td>\n",
       "    </tr>\n",
       "    <tr>\n",
       "      <th>...</th>\n",
       "      <td>...</td>\n",
       "      <td>...</td>\n",
       "      <td>...</td>\n",
       "    </tr>\n",
       "    <tr>\n",
       "      <th>86507</th>\n",
       "      <td>Zimbabwe</td>\n",
       "      <td>2022-03-25</td>\n",
       "      <td>Oxford/AstraZeneca, Sinopharm/Beijing, Sinovac...</td>\n",
       "    </tr>\n",
       "    <tr>\n",
       "      <th>86508</th>\n",
       "      <td>Zimbabwe</td>\n",
       "      <td>2022-03-26</td>\n",
       "      <td>Oxford/AstraZeneca, Sinopharm/Beijing, Sinovac...</td>\n",
       "    </tr>\n",
       "    <tr>\n",
       "      <th>86509</th>\n",
       "      <td>Zimbabwe</td>\n",
       "      <td>2022-03-27</td>\n",
       "      <td>Oxford/AstraZeneca, Sinopharm/Beijing, Sinovac...</td>\n",
       "    </tr>\n",
       "    <tr>\n",
       "      <th>86510</th>\n",
       "      <td>Zimbabwe</td>\n",
       "      <td>2022-03-28</td>\n",
       "      <td>Oxford/AstraZeneca, Sinopharm/Beijing, Sinovac...</td>\n",
       "    </tr>\n",
       "    <tr>\n",
       "      <th>86511</th>\n",
       "      <td>Zimbabwe</td>\n",
       "      <td>2022-03-29</td>\n",
       "      <td>Oxford/AstraZeneca, Sinopharm/Beijing, Sinovac...</td>\n",
       "    </tr>\n",
       "  </tbody>\n",
       "</table>\n",
       "<p>86512 rows × 3 columns</p>\n",
       "</div>"
      ],
      "text/plain": [
       "           country        date  \\\n",
       "0      Afghanistan  2021-02-22   \n",
       "1      Afghanistan  2021-02-23   \n",
       "2      Afghanistan  2021-02-24   \n",
       "3      Afghanistan  2021-02-25   \n",
       "4      Afghanistan  2021-02-26   \n",
       "...            ...         ...   \n",
       "86507     Zimbabwe  2022-03-25   \n",
       "86508     Zimbabwe  2022-03-26   \n",
       "86509     Zimbabwe  2022-03-27   \n",
       "86510     Zimbabwe  2022-03-28   \n",
       "86511     Zimbabwe  2022-03-29   \n",
       "\n",
       "                                                vaccines  \n",
       "0      Johnson&Johnson, Oxford/AstraZeneca, Pfizer/Bi...  \n",
       "1      Johnson&Johnson, Oxford/AstraZeneca, Pfizer/Bi...  \n",
       "2      Johnson&Johnson, Oxford/AstraZeneca, Pfizer/Bi...  \n",
       "3      Johnson&Johnson, Oxford/AstraZeneca, Pfizer/Bi...  \n",
       "4      Johnson&Johnson, Oxford/AstraZeneca, Pfizer/Bi...  \n",
       "...                                                  ...  \n",
       "86507  Oxford/AstraZeneca, Sinopharm/Beijing, Sinovac...  \n",
       "86508  Oxford/AstraZeneca, Sinopharm/Beijing, Sinovac...  \n",
       "86509  Oxford/AstraZeneca, Sinopharm/Beijing, Sinovac...  \n",
       "86510  Oxford/AstraZeneca, Sinopharm/Beijing, Sinovac...  \n",
       "86511  Oxford/AstraZeneca, Sinopharm/Beijing, Sinovac...  \n",
       "\n",
       "[86512 rows x 3 columns]"
      ]
     },
     "execution_count": 17,
     "metadata": {},
     "output_type": "execute_result"
    }
   ],
   "source": [
    "# selecionando campos para a análise\n",
    "vacinas_por_pais = dataframe[['country', 'date', 'vaccines']]\n",
    "vacinas_por_pais"
   ]
  },
  {
   "cell_type": "code",
   "execution_count": 18,
   "id": "1dd73604",
   "metadata": {},
   "outputs": [
    {
     "data": {
      "text/plain": [
       "vaccines\n",
       "Oxford/AstraZeneca                                                                                    20\n",
       "Johnson&Johnson, Moderna, Oxford/AstraZeneca, Pfizer/BioNTech                                         17\n",
       "Moderna, Oxford/AstraZeneca, Pfizer/BioNTech                                                          15\n",
       "Oxford/AstraZeneca, Pfizer/BioNTech                                                                   11\n",
       "Johnson&Johnson, Moderna, Novavax, Oxford/AstraZeneca, Pfizer/BioNTech                                 8\n",
       "                                                                                                      ..\n",
       "Moderna, Oxford/AstraZeneca, Pfizer/BioNTech, Sinopharm/Beijing, Sinovac                               1\n",
       "Moderna, Oxford/AstraZeneca, Pfizer/BioNTech, Sinovac, Sputnik Light, Sputnik V, ZF2001                1\n",
       "Moderna, Oxford/AstraZeneca, Pfizer/BioNTech, Sinovac, Sputnik V                                       1\n",
       "Moderna, Oxford/AstraZeneca, Pfizer/BioNTech, Sputnik V                                                1\n",
       "Abdala, Johnson&Johnson, Oxford/AstraZeneca, Pfizer/BioNTech, Soberana02, Sputnik Light, Sputnik V     1\n",
       "Name: country, Length: 84, dtype: int64"
      ]
     },
     "execution_count": 18,
     "metadata": {},
     "output_type": "execute_result"
    }
   ],
   "source": [
    "# vacinas mais usadas nos países\n",
    "vacinas_por_pais.groupby('vaccines')['country'].nunique().sort_values(ascending=False)"
   ]
  },
  {
   "cell_type": "code",
   "execution_count": 19,
   "id": "bdcdeccc",
   "metadata": {},
   "outputs": [],
   "source": [
    "# transformando a série acima em um dataframe, resetando e incluíndo a coluna de indíce\n",
    "vacinas_pais = dataframe.groupby('country')['vaccines'].unique()\n",
    "vacinas_pais = vacinas_pais.to_frame().reset_index()"
   ]
  },
  {
   "cell_type": "markdown",
   "id": "6e1874b4",
   "metadata": {},
   "source": [
    "# Qual o país possui o maior número de vacinados por dia ?"
   ]
  },
  {
   "cell_type": "code",
   "execution_count": 20,
   "id": "4aa9e73a",
   "metadata": {},
   "outputs": [
    {
     "data": {
      "text/plain": [
       "country\n",
       "China            22424286.0\n",
       "India            10037995.0\n",
       "Bangladesh        3758404.0\n",
       "United States     3506960.0\n",
       "Pakistan          2175773.0\n",
       "                    ...    \n",
       "Saint Helena          165.0\n",
       "Niue                   87.0\n",
       "Montserrat             53.0\n",
       "Tokelau                23.0\n",
       "Pitcairn                1.0\n",
       "Name: daily_vaccinations, Length: 223, dtype: float64"
      ]
     },
     "execution_count": 20,
     "metadata": {},
     "output_type": "execute_result"
    }
   ],
   "source": [
    "dataframe.groupby('country')['daily_vaccinations'].max().sort_values(ascending=False)"
   ]
  },
  {
   "cell_type": "markdown",
   "id": "5260b2a6",
   "metadata": {},
   "source": [
    "# Qual a média de vacinação por país"
   ]
  },
  {
   "cell_type": "code",
   "execution_count": 21,
   "id": "4d30bdc2",
   "metadata": {},
   "outputs": [
    {
     "data": {
      "text/html": [
       "<div>\n",
       "<style scoped>\n",
       "    .dataframe tbody tr th:only-of-type {\n",
       "        vertical-align: middle;\n",
       "    }\n",
       "\n",
       "    .dataframe tbody tr th {\n",
       "        vertical-align: top;\n",
       "    }\n",
       "\n",
       "    .dataframe thead th {\n",
       "        text-align: right;\n",
       "    }\n",
       "</style>\n",
       "<table border=\"1\" class=\"dataframe\">\n",
       "  <thead>\n",
       "    <tr style=\"text-align: right;\">\n",
       "      <th></th>\n",
       "      <th>country</th>\n",
       "      <th>daily_vaccinations</th>\n",
       "    </tr>\n",
       "  </thead>\n",
       "  <tbody>\n",
       "    <tr>\n",
       "      <th>0</th>\n",
       "      <td>China</td>\n",
       "      <td>6930368</td>\n",
       "    </tr>\n",
       "    <tr>\n",
       "      <th>1</th>\n",
       "      <td>India</td>\n",
       "      <td>4175994</td>\n",
       "    </tr>\n",
       "    <tr>\n",
       "      <th>2</th>\n",
       "      <td>United States</td>\n",
       "      <td>1191727</td>\n",
       "    </tr>\n",
       "    <tr>\n",
       "      <th>3</th>\n",
       "      <td>Brazil</td>\n",
       "      <td>943529</td>\n",
       "    </tr>\n",
       "    <tr>\n",
       "      <th>4</th>\n",
       "      <td>Indonesia</td>\n",
       "      <td>846289</td>\n",
       "    </tr>\n",
       "    <tr>\n",
       "      <th>...</th>\n",
       "      <td>...</td>\n",
       "      <td>...</td>\n",
       "    </tr>\n",
       "    <tr>\n",
       "      <th>218</th>\n",
       "      <td>Wallis and Futuna</td>\n",
       "      <td>34</td>\n",
       "    </tr>\n",
       "    <tr>\n",
       "      <th>219</th>\n",
       "      <td>Tokelau</td>\n",
       "      <td>17</td>\n",
       "    </tr>\n",
       "    <tr>\n",
       "      <th>220</th>\n",
       "      <td>Niue</td>\n",
       "      <td>16</td>\n",
       "    </tr>\n",
       "    <tr>\n",
       "      <th>221</th>\n",
       "      <td>Montserrat</td>\n",
       "      <td>11</td>\n",
       "    </tr>\n",
       "    <tr>\n",
       "      <th>222</th>\n",
       "      <td>Pitcairn</td>\n",
       "      <td>1</td>\n",
       "    </tr>\n",
       "  </tbody>\n",
       "</table>\n",
       "<p>223 rows × 2 columns</p>\n",
       "</div>"
      ],
      "text/plain": [
       "               country daily_vaccinations\n",
       "0                China            6930368\n",
       "1                India            4175994\n",
       "2        United States            1191727\n",
       "3               Brazil             943529\n",
       "4            Indonesia             846289\n",
       "..                 ...                ...\n",
       "218  Wallis and Futuna                 34\n",
       "219            Tokelau                 17\n",
       "220               Niue                 16\n",
       "221         Montserrat                 11\n",
       "222           Pitcairn                  1\n",
       "\n",
       "[223 rows x 2 columns]"
      ]
     },
     "execution_count": 21,
     "metadata": {},
     "output_type": "execute_result"
    }
   ],
   "source": [
    "media_pais = dataframe.groupby('country')['daily_vaccinations'].mean().sort_values(ascending=False).map('{:.0f}'.format)\n",
    "media_pais = media_pais.to_frame().reset_index()\n",
    "media_pais"
   ]
  },
  {
   "cell_type": "markdown",
   "id": "bceb0802",
   "metadata": {},
   "source": [
    "# Dataframes criados\n",
    "\n",
    "1.Imunizados\n",
    "\n",
    "2.Vacinas_por_pais\n",
    "\n",
    "3.media_pais\n",
    "\n",
    "Com base nos dataframes criados vamos criar uma nova base de dados utilizando os dados que tratamos anteriormente"
   ]
  },
  {
   "cell_type": "code",
   "execution_count": 22,
   "id": "e1791f42",
   "metadata": {},
   "outputs": [],
   "source": [
    "# Renomeando novas colunas das datas\n",
    "# vamos inicar alterando o nome de algumas colunas\n",
    "\n",
    "media_pais = media_pais.rename(columns={'country' : 'pais', 'daily_vaccinations' : 'media_vacinacao'})"
   ]
  },
  {
   "cell_type": "code",
   "execution_count": 23,
   "id": "d4963473",
   "metadata": {},
   "outputs": [
    {
     "data": {
      "text/html": [
       "<div>\n",
       "<style scoped>\n",
       "    .dataframe tbody tr th:only-of-type {\n",
       "        vertical-align: middle;\n",
       "    }\n",
       "\n",
       "    .dataframe tbody tr th {\n",
       "        vertical-align: top;\n",
       "    }\n",
       "\n",
       "    .dataframe thead th {\n",
       "        text-align: right;\n",
       "    }\n",
       "</style>\n",
       "<table border=\"1\" class=\"dataframe\">\n",
       "  <thead>\n",
       "    <tr style=\"text-align: right;\">\n",
       "      <th></th>\n",
       "      <th>pais</th>\n",
       "      <th>media_vacinacao</th>\n",
       "    </tr>\n",
       "  </thead>\n",
       "  <tbody>\n",
       "    <tr>\n",
       "      <th>0</th>\n",
       "      <td>China</td>\n",
       "      <td>6930368</td>\n",
       "    </tr>\n",
       "    <tr>\n",
       "      <th>1</th>\n",
       "      <td>India</td>\n",
       "      <td>4175994</td>\n",
       "    </tr>\n",
       "    <tr>\n",
       "      <th>2</th>\n",
       "      <td>United States</td>\n",
       "      <td>1191727</td>\n",
       "    </tr>\n",
       "    <tr>\n",
       "      <th>3</th>\n",
       "      <td>Brazil</td>\n",
       "      <td>943529</td>\n",
       "    </tr>\n",
       "    <tr>\n",
       "      <th>4</th>\n",
       "      <td>Indonesia</td>\n",
       "      <td>846289</td>\n",
       "    </tr>\n",
       "    <tr>\n",
       "      <th>...</th>\n",
       "      <td>...</td>\n",
       "      <td>...</td>\n",
       "    </tr>\n",
       "    <tr>\n",
       "      <th>218</th>\n",
       "      <td>Wallis and Futuna</td>\n",
       "      <td>34</td>\n",
       "    </tr>\n",
       "    <tr>\n",
       "      <th>219</th>\n",
       "      <td>Tokelau</td>\n",
       "      <td>17</td>\n",
       "    </tr>\n",
       "    <tr>\n",
       "      <th>220</th>\n",
       "      <td>Niue</td>\n",
       "      <td>16</td>\n",
       "    </tr>\n",
       "    <tr>\n",
       "      <th>221</th>\n",
       "      <td>Montserrat</td>\n",
       "      <td>11</td>\n",
       "    </tr>\n",
       "    <tr>\n",
       "      <th>222</th>\n",
       "      <td>Pitcairn</td>\n",
       "      <td>1</td>\n",
       "    </tr>\n",
       "  </tbody>\n",
       "</table>\n",
       "<p>223 rows × 2 columns</p>\n",
       "</div>"
      ],
      "text/plain": [
       "                  pais media_vacinacao\n",
       "0                China         6930368\n",
       "1                India         4175994\n",
       "2        United States         1191727\n",
       "3               Brazil          943529\n",
       "4            Indonesia          846289\n",
       "..                 ...             ...\n",
       "218  Wallis and Futuna              34\n",
       "219            Tokelau              17\n",
       "220               Niue              16\n",
       "221         Montserrat              11\n",
       "222           Pitcairn               1\n",
       "\n",
       "[223 rows x 2 columns]"
      ]
     },
     "execution_count": 23,
     "metadata": {},
     "output_type": "execute_result"
    }
   ],
   "source": [
    "media_pais"
   ]
  },
  {
   "cell_type": "code",
   "execution_count": 24,
   "id": "afa99838",
   "metadata": {},
   "outputs": [
    {
     "data": {
      "text/html": [
       "<div>\n",
       "<style scoped>\n",
       "    .dataframe tbody tr th:only-of-type {\n",
       "        vertical-align: middle;\n",
       "    }\n",
       "\n",
       "    .dataframe tbody tr th {\n",
       "        vertical-align: top;\n",
       "    }\n",
       "\n",
       "    .dataframe thead th {\n",
       "        text-align: right;\n",
       "    }\n",
       "</style>\n",
       "<table border=\"1\" class=\"dataframe\">\n",
       "  <thead>\n",
       "    <tr style=\"text-align: right;\">\n",
       "      <th></th>\n",
       "      <th>pais</th>\n",
       "      <th>vacina_utilizada</th>\n",
       "    </tr>\n",
       "  </thead>\n",
       "  <tbody>\n",
       "    <tr>\n",
       "      <th>0</th>\n",
       "      <td>Afghanistan</td>\n",
       "      <td>[Johnson&amp;Johnson, Oxford/AstraZeneca, Pfizer/B...</td>\n",
       "    </tr>\n",
       "    <tr>\n",
       "      <th>1</th>\n",
       "      <td>Albania</td>\n",
       "      <td>[Oxford/AstraZeneca, Pfizer/BioNTech, Sinovac,...</td>\n",
       "    </tr>\n",
       "    <tr>\n",
       "      <th>2</th>\n",
       "      <td>Algeria</td>\n",
       "      <td>[Oxford/AstraZeneca, Sinopharm/Beijing, Sinova...</td>\n",
       "    </tr>\n",
       "    <tr>\n",
       "      <th>3</th>\n",
       "      <td>Andorra</td>\n",
       "      <td>[Moderna, Oxford/AstraZeneca, Pfizer/BioNTech]</td>\n",
       "    </tr>\n",
       "    <tr>\n",
       "      <th>4</th>\n",
       "      <td>Angola</td>\n",
       "      <td>[Oxford/AstraZeneca]</td>\n",
       "    </tr>\n",
       "  </tbody>\n",
       "</table>\n",
       "</div>"
      ],
      "text/plain": [
       "          pais                                   vacina_utilizada\n",
       "0  Afghanistan  [Johnson&Johnson, Oxford/AstraZeneca, Pfizer/B...\n",
       "1      Albania  [Oxford/AstraZeneca, Pfizer/BioNTech, Sinovac,...\n",
       "2      Algeria  [Oxford/AstraZeneca, Sinopharm/Beijing, Sinova...\n",
       "3      Andorra     [Moderna, Oxford/AstraZeneca, Pfizer/BioNTech]\n",
       "4       Angola                               [Oxford/AstraZeneca]"
      ]
     },
     "execution_count": 24,
     "metadata": {},
     "output_type": "execute_result"
    }
   ],
   "source": [
    "vacinas_pais = vacinas_pais.rename(columns={'country' : 'pais', 'vaccines' : 'vacina_utilizada'})\n",
    "vacinas_pais[:5]"
   ]
  },
  {
   "cell_type": "code",
   "execution_count": 25,
   "id": "e0f9f338",
   "metadata": {},
   "outputs": [
    {
     "data": {
      "text/html": [
       "<div>\n",
       "<style scoped>\n",
       "    .dataframe tbody tr th:only-of-type {\n",
       "        vertical-align: middle;\n",
       "    }\n",
       "\n",
       "    .dataframe tbody tr th {\n",
       "        vertical-align: top;\n",
       "    }\n",
       "\n",
       "    .dataframe thead th {\n",
       "        text-align: right;\n",
       "    }\n",
       "</style>\n",
       "<table border=\"1\" class=\"dataframe\">\n",
       "  <thead>\n",
       "    <tr style=\"text-align: right;\">\n",
       "      <th></th>\n",
       "      <th>pais</th>\n",
       "      <th>imunizados</th>\n",
       "    </tr>\n",
       "  </thead>\n",
       "  <tbody>\n",
       "    <tr>\n",
       "      <th>0</th>\n",
       "      <td>China</td>\n",
       "      <td>3263129000</td>\n",
       "    </tr>\n",
       "    <tr>\n",
       "      <th>1</th>\n",
       "      <td>India</td>\n",
       "      <td>1834500657</td>\n",
       "    </tr>\n",
       "    <tr>\n",
       "      <th>2</th>\n",
       "      <td>United States</td>\n",
       "      <td>560181791</td>\n",
       "    </tr>\n",
       "    <tr>\n",
       "      <th>3</th>\n",
       "      <td>Brazil</td>\n",
       "      <td>413559595</td>\n",
       "    </tr>\n",
       "    <tr>\n",
       "      <th>4</th>\n",
       "      <td>Indonesia</td>\n",
       "      <td>377108938</td>\n",
       "    </tr>\n",
       "  </tbody>\n",
       "</table>\n",
       "</div>"
      ],
      "text/plain": [
       "            pais  imunizados\n",
       "0          China  3263129000\n",
       "1          India  1834500657\n",
       "2  United States   560181791\n",
       "3         Brazil   413559595\n",
       "4      Indonesia   377108938"
      ]
     },
     "execution_count": 25,
     "metadata": {},
     "output_type": "execute_result"
    }
   ],
   "source": [
    "imunizados = imunizados.rename(columns={'country' : 'pais', 'total_vaccinations' : 'imunizados'})\n",
    "imunizados[:5]"
   ]
  },
  {
   "cell_type": "markdown",
   "id": "411b8220",
   "metadata": {},
   "source": [
    "# Criando um novo dataset"
   ]
  },
  {
   "cell_type": "code",
   "execution_count": 26,
   "id": "ea1b27d7",
   "metadata": {},
   "outputs": [],
   "source": [
    "dados_tratados = pd.merge(imunizados, media_pais, how='inner')"
   ]
  },
  {
   "cell_type": "code",
   "execution_count": 27,
   "id": "fb1b5c43",
   "metadata": {},
   "outputs": [
    {
     "data": {
      "text/html": [
       "<div>\n",
       "<style scoped>\n",
       "    .dataframe tbody tr th:only-of-type {\n",
       "        vertical-align: middle;\n",
       "    }\n",
       "\n",
       "    .dataframe tbody tr th {\n",
       "        vertical-align: top;\n",
       "    }\n",
       "\n",
       "    .dataframe thead th {\n",
       "        text-align: right;\n",
       "    }\n",
       "</style>\n",
       "<table border=\"1\" class=\"dataframe\">\n",
       "  <thead>\n",
       "    <tr style=\"text-align: right;\">\n",
       "      <th></th>\n",
       "      <th>pais</th>\n",
       "      <th>imunizados</th>\n",
       "      <th>media_vacinacao</th>\n",
       "      <th>vacina_utilizada</th>\n",
       "    </tr>\n",
       "  </thead>\n",
       "  <tbody>\n",
       "    <tr>\n",
       "      <th>0</th>\n",
       "      <td>China</td>\n",
       "      <td>3263129000</td>\n",
       "      <td>6930368</td>\n",
       "      <td>[CanSino, Sinopharm/Beijing, Sinopharm/Wuhan, ...</td>\n",
       "    </tr>\n",
       "    <tr>\n",
       "      <th>1</th>\n",
       "      <td>India</td>\n",
       "      <td>1834500657</td>\n",
       "      <td>4175994</td>\n",
       "      <td>[Covaxin, Oxford/AstraZeneca, Sputnik V]</td>\n",
       "    </tr>\n",
       "    <tr>\n",
       "      <th>2</th>\n",
       "      <td>United States</td>\n",
       "      <td>560181791</td>\n",
       "      <td>1191727</td>\n",
       "      <td>[Johnson&amp;Johnson, Moderna, Pfizer/BioNTech]</td>\n",
       "    </tr>\n",
       "    <tr>\n",
       "      <th>3</th>\n",
       "      <td>Brazil</td>\n",
       "      <td>413559595</td>\n",
       "      <td>943529</td>\n",
       "      <td>[Johnson&amp;Johnson, Oxford/AstraZeneca, Pfizer/B...</td>\n",
       "    </tr>\n",
       "    <tr>\n",
       "      <th>4</th>\n",
       "      <td>Indonesia</td>\n",
       "      <td>377108938</td>\n",
       "      <td>846289</td>\n",
       "      <td>[Johnson&amp;Johnson, Moderna, Novavax, Oxford/Ast...</td>\n",
       "    </tr>\n",
       "    <tr>\n",
       "      <th>...</th>\n",
       "      <td>...</td>\n",
       "      <td>...</td>\n",
       "      <td>...</td>\n",
       "      <td>...</td>\n",
       "    </tr>\n",
       "    <tr>\n",
       "      <th>218</th>\n",
       "      <td>Falkland Islands</td>\n",
       "      <td>4407</td>\n",
       "      <td>75</td>\n",
       "      <td>[Oxford/AstraZeneca]</td>\n",
       "    </tr>\n",
       "    <tr>\n",
       "      <th>219</th>\n",
       "      <td>Montserrat</td>\n",
       "      <td>4211</td>\n",
       "      <td>11</td>\n",
       "      <td>[Oxford/AstraZeneca]</td>\n",
       "    </tr>\n",
       "    <tr>\n",
       "      <th>220</th>\n",
       "      <td>Niue</td>\n",
       "      <td>4161</td>\n",
       "      <td>16</td>\n",
       "      <td>[Pfizer/BioNTech]</td>\n",
       "    </tr>\n",
       "    <tr>\n",
       "      <th>221</th>\n",
       "      <td>Tokelau</td>\n",
       "      <td>1936</td>\n",
       "      <td>17</td>\n",
       "      <td>[Pfizer/BioNTech]</td>\n",
       "    </tr>\n",
       "    <tr>\n",
       "      <th>222</th>\n",
       "      <td>Pitcairn</td>\n",
       "      <td>94</td>\n",
       "      <td>1</td>\n",
       "      <td>[Oxford/AstraZeneca]</td>\n",
       "    </tr>\n",
       "  </tbody>\n",
       "</table>\n",
       "<p>223 rows × 4 columns</p>\n",
       "</div>"
      ],
      "text/plain": [
       "                 pais  imunizados media_vacinacao  \\\n",
       "0               China  3263129000         6930368   \n",
       "1               India  1834500657         4175994   \n",
       "2       United States   560181791         1191727   \n",
       "3              Brazil   413559595          943529   \n",
       "4           Indonesia   377108938          846289   \n",
       "..                ...         ...             ...   \n",
       "218  Falkland Islands        4407              75   \n",
       "219        Montserrat        4211              11   \n",
       "220              Niue        4161              16   \n",
       "221           Tokelau        1936              17   \n",
       "222          Pitcairn          94               1   \n",
       "\n",
       "                                      vacina_utilizada  \n",
       "0    [CanSino, Sinopharm/Beijing, Sinopharm/Wuhan, ...  \n",
       "1             [Covaxin, Oxford/AstraZeneca, Sputnik V]  \n",
       "2          [Johnson&Johnson, Moderna, Pfizer/BioNTech]  \n",
       "3    [Johnson&Johnson, Oxford/AstraZeneca, Pfizer/B...  \n",
       "4    [Johnson&Johnson, Moderna, Novavax, Oxford/Ast...  \n",
       "..                                                 ...  \n",
       "218                               [Oxford/AstraZeneca]  \n",
       "219                               [Oxford/AstraZeneca]  \n",
       "220                                  [Pfizer/BioNTech]  \n",
       "221                                  [Pfizer/BioNTech]  \n",
       "222                               [Oxford/AstraZeneca]  \n",
       "\n",
       "[223 rows x 4 columns]"
      ]
     },
     "execution_count": 27,
     "metadata": {},
     "output_type": "execute_result"
    }
   ],
   "source": [
    "dados_tratados = pd.merge(dados_tratados, vacinas_pais)\n",
    "dados_tratados"
   ]
  },
  {
   "cell_type": "markdown",
   "id": "e5af571e",
   "metadata": {},
   "source": [
    "# Exportando dados tratados"
   ]
  },
  {
   "cell_type": "code",
   "execution_count": 28,
   "id": "de0e2bcb",
   "metadata": {},
   "outputs": [
    {
     "name": "stdout",
     "output_type": "stream",
     "text": [
      "Arquivo Gerado com Sucesso em H:\\Meu Drive\\BI\\Python e Outros\\MBA\\coleta_dados_estruturados\\datasets em 2024-04-04 12:23:10\n"
     ]
    }
   ],
   "source": [
    "agora = datetime.now()\n",
    "try:\n",
    "    dados_tratados.to_csv('H:\\\\Meu Drive\\\\BI\\\\Python e Outros\\\\MBA\\\\coleta_dados_estruturados\\\\datasets\\\\statistica.csv', index=True, sep=';')\n",
    "    \n",
    "    print(f\"Arquivo Gerado com Sucesso em {DIRETORIO} em {agora.strftime('%Y-%m-%d %H:%M:%S')}\")\n",
    "    \n",
    "except Exception as e:\n",
    "    \n",
    "    print(\"Ocorreu um erro ao gerar o Arquivo:\", str(e))"
   ]
  }
 ],
 "metadata": {
  "kernelspec": {
   "display_name": "Python 3 (ipykernel)",
   "language": "python",
   "name": "python3"
  },
  "language_info": {
   "codemirror_mode": {
    "name": "ipython",
    "version": 3
   },
   "file_extension": ".py",
   "mimetype": "text/x-python",
   "name": "python",
   "nbconvert_exporter": "python",
   "pygments_lexer": "ipython3",
   "version": "3.8.8"
  },
  "varInspector": {
   "cols": {
    "lenName": 16,
    "lenType": 16,
    "lenVar": 40
   },
   "kernels_config": {
    "python": {
     "delete_cmd_postfix": "",
     "delete_cmd_prefix": "del ",
     "library": "var_list.py",
     "varRefreshCmd": "print(var_dic_list())"
    },
    "r": {
     "delete_cmd_postfix": ") ",
     "delete_cmd_prefix": "rm(",
     "library": "var_list.r",
     "varRefreshCmd": "cat(var_dic_list()) "
    }
   },
   "types_to_exclude": [
    "module",
    "function",
    "builtin_function_or_method",
    "instance",
    "_Feature"
   ],
   "window_display": false
  }
 },
 "nbformat": 4,
 "nbformat_minor": 5
}
